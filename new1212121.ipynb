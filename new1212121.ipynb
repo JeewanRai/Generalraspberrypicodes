{
 "cells": [
  {
   "cell_type": "code",
   "execution_count": null,
   "metadata": {},
   "outputs": [
    {
     "ename": "",
     "evalue": "",
     "output_type": "error",
     "traceback": [
      "\u001b[1;31mThe file 'decorator.py' seems to be overriding built in modules and interfering with the startup of the kernel. Consider renaming the file and starting the kernel again.\n",
      "\u001b[1;31mClick <a href='https://aka.ms/kernelFailuresOverridingBuiltInModules'>here</a> for more info."
     ]
    }
   ],
   "source": [
    "class Account():\n",
    "  def __init__(self, name, account_number):\n",
    "    self.name = name\n",
    "    self.account_number = account_number\n",
    "    self.balance = 0\n",
    "  def Add_money(self, Amount):\n",
    "    self.balance +=Amount\n",
    "    print('Money added to your account')\n",
    "  def Display_amount(self):\n",
    "    print(f\"Account Number: {self.account_number} \\nName: {self.name} \\nBalance: Nu.{self.balance}\")\n",
    "  def Withdraw(self, Amount):\n",
    "    if Amount > self.balance:\n",
    "      print('Insufficent Balanace')\n",
    "    else:\n",
    "      self.balance -=Amount\n",
    "      print('Money withdrawn from your account')\n",
    "\n",
    "  def transfer_money(self, transfer_amount, acc):\n",
    "    if transfer_amount > self.balance:\n",
    "      print(\"Insuffcient Balance to transfer\")\n",
    "    else:\n",
    "      self.Withdraw(transfer_amount)\n",
    "      acc.Add_money(transfer_amount)\n",
    "      # self.balance -= transfer_amount\n",
    "      # acc.balance += transfer_amount\n",
    "      print('Money has be transferred')"
   ]
  }
 ],
 "metadata": {
  "kernelspec": {
   "display_name": "Python 3",
   "language": "python",
   "name": "python3"
  },
  "language_info": {
   "name": "python",
   "version": "3.11.3"
  },
  "orig_nbformat": 4
 },
 "nbformat": 4,
 "nbformat_minor": 2
}
